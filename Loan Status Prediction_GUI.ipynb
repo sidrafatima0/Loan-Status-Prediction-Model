{
 "cells": [
  {
   "cell_type": "markdown",
   "id": "54646b7a",
   "metadata": {},
   "source": [
    "# Loan Prediction Project"
   ]
  },
  {
   "cell_type": "markdown",
   "id": "0ad6914f",
   "metadata": {},
   "source": [
    "## 1. Dataset Information"
   ]
  },
  {
   "cell_type": "code",
   "execution_count": 1,
   "id": "b5505f6e",
   "metadata": {},
   "outputs": [],
   "source": [
    "import pandas as pd\n",
    "import numpy as np"
   ]
  },
  {
   "cell_type": "code",
   "execution_count": 2,
   "id": "609dc4d5",
   "metadata": {},
   "outputs": [],
   "source": [
    "df = pd.read_csv('loan_prediction_dataset.csv')"
   ]
  },
  {
   "cell_type": "code",
   "execution_count": 3,
   "id": "79140a35",
   "metadata": {},
   "outputs": [
    {
     "data": {
      "text/plain": [
       "(614, 13)"
      ]
     },
     "execution_count": 3,
     "metadata": {},
     "output_type": "execute_result"
    }
   ],
   "source": [
    "df.shape"
   ]
  },
  {
   "cell_type": "code",
   "execution_count": 4,
   "id": "936d8eb6",
   "metadata": {
    "scrolled": true
   },
   "outputs": [
    {
     "name": "stdout",
     "output_type": "stream",
     "text": [
      "df[Loan_ID]\n",
      "Loan_ID\n",
      "LP001002    1\n",
      "LP002328    1\n",
      "LP002305    1\n",
      "LP002308    1\n",
      "LP002314    1\n",
      "           ..\n",
      "LP001692    1\n",
      "LP001693    1\n",
      "LP001698    1\n",
      "LP001699    1\n",
      "LP002990    1\n",
      "Name: count, Length: 614, dtype: int64\n",
      "\n",
      "\n",
      "df[Gender]\n",
      "Gender\n",
      "Male      489\n",
      "Female    112\n",
      "Name: count, dtype: int64\n",
      "\n",
      "\n",
      "df[Married]\n",
      "Married\n",
      "Yes    398\n",
      "No     213\n",
      "Name: count, dtype: int64\n",
      "\n",
      "\n",
      "df[Dependents]\n",
      "Dependents\n",
      "0     345\n",
      "1     102\n",
      "2     101\n",
      "3+     51\n",
      "Name: count, dtype: int64\n",
      "\n",
      "\n",
      "df[Education]\n",
      "Education\n",
      "Graduate        480\n",
      "Not Graduate    134\n",
      "Name: count, dtype: int64\n",
      "\n",
      "\n",
      "df[Self_Employed]\n",
      "Self_Employed\n",
      "No     500\n",
      "Yes     82\n",
      "Name: count, dtype: int64\n",
      "\n",
      "\n",
      "df[ApplicantIncome]\n",
      "ApplicantIncome\n",
      "2500    9\n",
      "4583    6\n",
      "6000    6\n",
      "2600    6\n",
      "3333    5\n",
      "       ..\n",
      "3244    1\n",
      "4408    1\n",
      "3917    1\n",
      "3992    1\n",
      "7583    1\n",
      "Name: count, Length: 505, dtype: int64\n",
      "\n",
      "\n",
      "df[CoapplicantIncome]\n",
      "CoapplicantIncome\n",
      "0.0       273\n",
      "2500.0      5\n",
      "2083.0      5\n",
      "1666.0      5\n",
      "2250.0      3\n",
      "         ... \n",
      "2791.0      1\n",
      "1010.0      1\n",
      "1695.0      1\n",
      "2598.0      1\n",
      "240.0       1\n",
      "Name: count, Length: 287, dtype: int64\n",
      "\n",
      "\n",
      "df[LoanAmount]\n",
      "LoanAmount\n",
      "120.0    20\n",
      "110.0    17\n",
      "100.0    15\n",
      "160.0    12\n",
      "187.0    12\n",
      "         ..\n",
      "240.0     1\n",
      "214.0     1\n",
      "59.0      1\n",
      "166.0     1\n",
      "253.0     1\n",
      "Name: count, Length: 203, dtype: int64\n",
      "\n",
      "\n",
      "df[Loan_Amount_Term]\n",
      "Loan_Amount_Term\n",
      "360.0    512\n",
      "180.0     44\n",
      "480.0     15\n",
      "300.0     13\n",
      "240.0      4\n",
      "84.0       4\n",
      "120.0      3\n",
      "60.0       2\n",
      "36.0       2\n",
      "12.0       1\n",
      "Name: count, dtype: int64\n",
      "\n",
      "\n",
      "df[Credit_History]\n",
      "Credit_History\n",
      "1.0    475\n",
      "0.0     89\n",
      "Name: count, dtype: int64\n",
      "\n",
      "\n",
      "df[Property_Area]\n",
      "Property_Area\n",
      "Semiurban    233\n",
      "Urban        202\n",
      "Rural        179\n",
      "Name: count, dtype: int64\n",
      "\n",
      "\n",
      "df[Loan_Status]\n",
      "Loan_Status\n",
      "Y    422\n",
      "N    192\n",
      "Name: count, dtype: int64\n",
      "\n",
      "\n"
     ]
    }
   ],
   "source": [
    "for col in df.columns:\n",
    "    counts = df[col].value_counts()\n",
    "    print(f'df[{col}]')\n",
    "    print(counts)\n",
    "    print('\\n')\n"
   ]
  },
  {
   "cell_type": "markdown",
   "id": "339258ba",
   "metadata": {},
   "source": [
    "From the result above, we can summary the dataset description:"
   ]
  },
  {
   "cell_type": "markdown",
   "id": "6eae887e",
   "metadata": {},
   "source": [
    "1. **Loan_ID**: Unique Loan ID\n",
    "2. **Gender**: Male/Female\n",
    "3. **Married**: Applicant married (Y/N)\n",
    "4. **Dependents**: Number of dependents\n",
    "5. **Education**: Applicant Education (Graduate/Under Graduate)\n",
    "6. **Self_Employed**: Self employed (Y/N)\n",
    "7. **ApplicantIncome**: Applicant income\n",
    "8. **CoapplicantIncome**: Coapplicant income\n",
    "9. **LoanAmount**: Loan amount in thousands of dollars\n",
    "10. **Loan_Amount_Term**: Term of loan in months\n",
    "11. **Credit_History**: Credit history meets guidelines (Yes/No)\n",
    "12. **Property_Area**: Urban/Semi Urban/Rural\n",
    "13. **Loan_Status**: Loan approved (Y/N) (This is the target variable)"
   ]
  },
  {
   "cell_type": "markdown",
   "id": "09d65fee",
   "metadata": {},
   "source": [
    "## 2. Handling Missing Values"
   ]
  },
  {
   "cell_type": "markdown",
   "id": "272d7021",
   "metadata": {},
   "source": [
    "#### Percentage of Missing Values in each column"
   ]
  },
  {
   "cell_type": "code",
   "execution_count": 5,
   "id": "f0d46ebb",
   "metadata": {},
   "outputs": [
    {
     "data": {
      "text/plain": [
       "Loan_ID              0.000000\n",
       "Gender               2.117264\n",
       "Married              0.488599\n",
       "Dependents           2.442997\n",
       "Education            0.000000\n",
       "Self_Employed        5.211726\n",
       "ApplicantIncome      0.000000\n",
       "CoapplicantIncome    0.000000\n",
       "LoanAmount           3.583062\n",
       "Loan_Amount_Term     2.280130\n",
       "Credit_History       8.143322\n",
       "Property_Area        0.000000\n",
       "Loan_Status          0.000000\n",
       "dtype: float64"
      ]
     },
     "execution_count": 5,
     "metadata": {},
     "output_type": "execute_result"
    }
   ],
   "source": [
    "df.isnull().sum() * 100 / len(df)"
   ]
  },
  {
   "cell_type": "markdown",
   "id": "9aca3f27",
   "metadata": {},
   "source": [
    "#### Filling the missing values in columns with the mode"
   ]
  },
  {
   "cell_type": "markdown",
   "id": "024574fa",
   "metadata": {},
   "source": [
    "**Loan_ID Exclusion for Model Building:**\n",
    "The `Loan_ID` column is not necessary for prediction, and retaining it may introduce the risk of data leakage. Therefore, it is advisable to exclude the `Loan_ID` column when constructing machine learning models."
   ]
  },
  {
   "cell_type": "code",
   "execution_count": 6,
   "id": "43faf0eb",
   "metadata": {},
   "outputs": [],
   "source": [
    "df = df.drop('Loan_ID', axis=1)"
   ]
  },
  {
   "cell_type": "markdown",
   "id": "9b93a7b7",
   "metadata": {},
   "source": [
    "The following columns: `Gender`, `Married`, `Dependents`, `Self_Employed`, `Loan_Amount_Term`, and `Credit_History`, contain missing rows that we intend to populate using the **mode of each respective column**. Additionally, the `LoanAmount` column exhibits missing rows, which we aim to complete using the **mean value of the column**."
   ]
  },
  {
   "cell_type": "code",
   "execution_count": 7,
   "id": "0256e220",
   "metadata": {},
   "outputs": [
    {
     "name": "stderr",
     "output_type": "stream",
     "text": [
      "C:\\Users\\rachi\\AppData\\Local\\Temp\\ipykernel_27696\\2137553297.py:1: FutureWarning: A value is trying to be set on a copy of a DataFrame or Series through chained assignment using an inplace method.\n",
      "The behavior will change in pandas 3.0. This inplace method will never work because the intermediate object on which we are setting values always behaves as a copy.\n",
      "\n",
      "For example, when doing 'df[col].method(value, inplace=True)', try using 'df.method({col: value}, inplace=True)' or df[col] = df[col].method(value) instead, to perform the operation inplace on the original object.\n",
      "\n",
      "\n",
      "  df['Gender'].fillna(df['Gender'].mode()[0], inplace=True)\n",
      "C:\\Users\\rachi\\AppData\\Local\\Temp\\ipykernel_27696\\2137553297.py:2: FutureWarning: A value is trying to be set on a copy of a DataFrame or Series through chained assignment using an inplace method.\n",
      "The behavior will change in pandas 3.0. This inplace method will never work because the intermediate object on which we are setting values always behaves as a copy.\n",
      "\n",
      "For example, when doing 'df[col].method(value, inplace=True)', try using 'df.method({col: value}, inplace=True)' or df[col] = df[col].method(value) instead, to perform the operation inplace on the original object.\n",
      "\n",
      "\n",
      "  df['Married'].fillna(df['Married'].mode()[0], inplace=True)\n",
      "C:\\Users\\rachi\\AppData\\Local\\Temp\\ipykernel_27696\\2137553297.py:3: FutureWarning: A value is trying to be set on a copy of a DataFrame or Series through chained assignment using an inplace method.\n",
      "The behavior will change in pandas 3.0. This inplace method will never work because the intermediate object on which we are setting values always behaves as a copy.\n",
      "\n",
      "For example, when doing 'df[col].method(value, inplace=True)', try using 'df.method({col: value}, inplace=True)' or df[col] = df[col].method(value) instead, to perform the operation inplace on the original object.\n",
      "\n",
      "\n",
      "  df['Dependents'].fillna(df['Dependents'].mode()[0], inplace=True)\n",
      "C:\\Users\\rachi\\AppData\\Local\\Temp\\ipykernel_27696\\2137553297.py:4: FutureWarning: A value is trying to be set on a copy of a DataFrame or Series through chained assignment using an inplace method.\n",
      "The behavior will change in pandas 3.0. This inplace method will never work because the intermediate object on which we are setting values always behaves as a copy.\n",
      "\n",
      "For example, when doing 'df[col].method(value, inplace=True)', try using 'df.method({col: value}, inplace=True)' or df[col] = df[col].method(value) instead, to perform the operation inplace on the original object.\n",
      "\n",
      "\n",
      "  df['Self_Employed'].fillna(df['Self_Employed'].mode()[0], inplace=True)\n",
      "C:\\Users\\rachi\\AppData\\Local\\Temp\\ipykernel_27696\\2137553297.py:5: FutureWarning: A value is trying to be set on a copy of a DataFrame or Series through chained assignment using an inplace method.\n",
      "The behavior will change in pandas 3.0. This inplace method will never work because the intermediate object on which we are setting values always behaves as a copy.\n",
      "\n",
      "For example, when doing 'df[col].method(value, inplace=True)', try using 'df.method({col: value}, inplace=True)' or df[col] = df[col].method(value) instead, to perform the operation inplace on the original object.\n",
      "\n",
      "\n",
      "  df['Loan_Amount_Term'].fillna(df['Loan_Amount_Term'].mode()[0], inplace=True)\n",
      "C:\\Users\\rachi\\AppData\\Local\\Temp\\ipykernel_27696\\2137553297.py:6: FutureWarning: A value is trying to be set on a copy of a DataFrame or Series through chained assignment using an inplace method.\n",
      "The behavior will change in pandas 3.0. This inplace method will never work because the intermediate object on which we are setting values always behaves as a copy.\n",
      "\n",
      "For example, when doing 'df[col].method(value, inplace=True)', try using 'df.method({col: value}, inplace=True)' or df[col] = df[col].method(value) instead, to perform the operation inplace on the original object.\n",
      "\n",
      "\n",
      "  df['Credit_History'].fillna(df['Credit_History'].mode()[0], inplace=True)\n",
      "C:\\Users\\rachi\\AppData\\Local\\Temp\\ipykernel_27696\\2137553297.py:7: FutureWarning: A value is trying to be set on a copy of a DataFrame or Series through chained assignment using an inplace method.\n",
      "The behavior will change in pandas 3.0. This inplace method will never work because the intermediate object on which we are setting values always behaves as a copy.\n",
      "\n",
      "For example, when doing 'df[col].method(value, inplace=True)', try using 'df.method({col: value}, inplace=True)' or df[col] = df[col].method(value) instead, to perform the operation inplace on the original object.\n",
      "\n",
      "\n",
      "  df['LoanAmount'].fillna(df['LoanAmount'].mean(), inplace=True)\n"
     ]
    }
   ],
   "source": [
    "df['Gender'].fillna(df['Gender'].mode()[0], inplace=True)\n",
    "df['Married'].fillna(df['Married'].mode()[0], inplace=True)\n",
    "df['Dependents'].fillna(df['Dependents'].mode()[0], inplace=True)\n",
    "df['Self_Employed'].fillna(df['Self_Employed'].mode()[0], inplace=True)\n",
    "df['Loan_Amount_Term'].fillna(df['Loan_Amount_Term'].mode()[0], inplace=True)\n",
    "df['Credit_History'].fillna(df['Credit_History'].mode()[0], inplace=True)\n",
    "df['LoanAmount'].fillna(df['LoanAmount'].mean(), inplace=True)"
   ]
  },
  {
   "cell_type": "markdown",
   "id": "26f1131f",
   "metadata": {},
   "source": [
    "## 3. Data Exploratory"
   ]
  },
  {
   "cell_type": "markdown",
   "id": "9a4a6438",
   "metadata": {},
   "source": [
    "We aim to delve into and analyze the visual representation of data through plots, utilizing the **seaborn** library to create various graphical representations.\n"
   ]
  },
  {
   "cell_type": "markdown",
   "id": "70bcde9d",
   "metadata": {},
   "source": [
    "#### Loan Amount Histogram"
   ]
  },
  {
   "cell_type": "code",
   "execution_count": 8,
   "id": "1441dff3",
   "metadata": {},
   "outputs": [
    {
     "data": {
      "image/png": "[encoded data removed]",
      "text/plain": [
       "<Figure size 640x480 with 1 Axes>"
      ]
     },
     "metadata": {},
     "output_type": "display_data"
    }
   ],
   "source": [
    "(df['LoanAmount']).hist(bins=20);"
   ]
  },
  {
   "cell_type": "markdown",
   "id": "58f0cc97",
   "metadata": {},
   "source": [
    "The distribution of loan amounts in the dataset can be summarized as follows: The most common loan amount is `$120.0`, occurring 20 times in the data. This is followed by `$110.0`, which appears 17 times, and `$100.0`, occurring 15 times. The distribution shows a range of loan values, with some values occurring only once, such as `$240.0`, `$214.0`, `$59.0`, `$166.0`, and `$253.0`. Overall, there are 203 unique loan amounts in the dataset.\n"
   ]
  },
  {
   "cell_type": "markdown",
   "id": "3dd00ed3",
   "metadata": {},
   "source": [
    "#### Applicant Income Histogram"
   ]
  },
  {
   "cell_type": "code",
   "execution_count": 9,
   "id": "d44eed74",
   "metadata": {},
   "outputs": [
    {
     "name": "stdout",
     "output_type": "stream",
     "text": [
      "ApplicantIncome\n",
      "2500    9\n",
      "4583    6\n",
      "6000    6\n",
      "2600    6\n",
      "3333    5\n",
      "       ..\n",
      "3244    1\n",
      "4408    1\n",
      "3917    1\n",
      "3992    1\n",
      "7583    1\n",
      "Name: count, Length: 505, dtype: int64\n"
     ]
    },
    {
     "data": {
      "image/png": "[encoded data removed]",
      "text/plain": [
       "<Figure size 640x480 with 1 Axes>"
      ]
     },
     "metadata": {},
     "output_type": "display_data"
    }
   ],
   "source": [
    "print(df['ApplicantIncome'].value_counts())\n",
    "(df['ApplicantIncome']).hist(bins=20);"
   ]
  },
  {
   "cell_type": "markdown",
   "id": "ddbe4c88",
   "metadata": {},
   "source": [
    "The distribution of Applicant Income in the column `df[ApplicantIncome]` varies across a range of values. The majority of applicants have an income around `$2,500`, with 9 instances, followed closely by `$4,583` and `$6,000`, each occurring 6 times. These values represent the most common income levels among applicants. As the income values increase, the frequency decreases, indicating that fewer applicants have higher incomes. This distribution provides insights into the income levels of applicants seeking loans."
   ]
  },
  {
   "cell_type": "markdown",
   "id": "2c73e6bc",
   "metadata": {},
   "source": [
    "##### Coapplicant Income"
   ]
  },
  {
   "cell_type": "code",
   "execution_count": 10,
   "id": "9844e923",
   "metadata": {},
   "outputs": [
    {
     "name": "stdout",
     "output_type": "stream",
     "text": [
      "CoapplicantIncome\n",
      "0.0       273\n",
      "2500.0      5\n",
      "2083.0      5\n",
      "1666.0      5\n",
      "2250.0      3\n",
      "         ... \n",
      "2791.0      1\n",
      "1010.0      1\n",
      "1695.0      1\n",
      "2598.0      1\n",
      "240.0       1\n",
      "Name: count, Length: 287, dtype: int64\n"
     ]
    },
    {
     "data": {
      "image/png": "[encoded data removed]",
      "text/plain": [
       "<Figure size 640x480 with 1 Axes>"
      ]
     },
     "metadata": {},
     "output_type": "display_data"
    }
   ],
   "source": [
    "print(df['CoapplicantIncome'].value_counts())\n",
    "(df['CoapplicantIncome']).hist(bins=20);"
   ]
  },
  {
   "cell_type": "markdown",
   "id": "716bc353",
   "metadata": {},
   "source": [
    "The distribution of coapplicant income in the dataset varies across a range of values. The most common coapplicant income is `$0.0` (having no income), occurring 273 times in the dataset. There are several other values, such as `$2500.0`, `$2083`.0,` $1666.0`, and so on, each appearing 5 times. These observations suggest that a significant portion of coapplicants have no income, while other values are relatively evenly distributed. Overall, there are 287 unique values in the \"CoapplicantIncome\" column.\n"
   ]
  },
  {
   "cell_type": "markdown",
   "id": "894dff92",
   "metadata": {},
   "source": [
    "#### Countplot of Gender"
   ]
  },
  {
   "cell_type": "code",
   "execution_count": 11,
   "id": "c37fcd80",
   "metadata": {},
   "outputs": [
    {
     "name": "stdout",
     "output_type": "stream",
     "text": [
      "Gender\n",
      "Male      502\n",
      "Female    112\n",
      "Name: count, dtype: int64\n"
     ]
    },
    {
     "data": {
      "image/png": "[encoded data removed]",
      "text/plain": [
       "<Figure size 640x480 with 1 Axes>"
      ]
     },
     "metadata": {},
     "output_type": "display_data"
    }
   ],
   "source": [
    "import seaborn as sns\n",
    "print(df['Gender'].value_counts())\n",
    "sns.countplot(data=df, x='Gender');"
   ]
  },
  {
   "cell_type": "markdown",
   "id": "63596bd6",
   "metadata": {},
   "source": [
    "The distribution of gender, as seen in the DataFrame (`df`), is summarized as follows: Among the applicants, 489 are male, while 112 are female, with the \"Gender\" column serving as the identifier for these categories.\n"
   ]
  },
  {
   "cell_type": "markdown",
   "id": "0c469764",
   "metadata": {},
   "source": [
    "#### Countplot of Married People"
   ]
  },
  {
   "cell_type": "code",
   "execution_count": 12,
   "id": "7239efe2",
   "metadata": {},
   "outputs": [
    {
     "name": "stdout",
     "output_type": "stream",
     "text": [
      "Married\n",
      "Yes    401\n",
      "No     213\n",
      "Name: count, dtype: int64\n"
     ]
    },
    {
     "data": {
      "image/png": "[encoded data removed]",
      "text/plain": [
       "<Figure size 640x480 with 1 Axes>"
      ]
     },
     "metadata": {},
     "output_type": "display_data"
    }
   ],
   "source": [
    "print(df['Married'].value_counts())\n",
    "sns.countplot(x='Married', data=df);"
   ]
  },
  {
   "cell_type": "markdown",
   "id": "173b90f5",
   "metadata": {},
   "source": [
    "The distribution of marital status in the dataset can be summarized as follows: there are 398 individuals marked as \"Married\" and 213 individuals marked as \"Not Married\" (i.e., \"No\") in the \"Married\" column of the DataFrame.\n"
   ]
  },
  {
   "cell_type": "markdown",
   "id": "589cfa2d",
   "metadata": {},
   "source": [
    "#### Countplot of Dependents"
   ]
  },
  {
   "cell_type": "code",
   "execution_count": 13,
   "id": "49cd6333",
   "metadata": {
    "scrolled": false
   },
   "outputs": [
    {
     "name": "stdout",
     "output_type": "stream",
     "text": [
      "Dependents\n",
      "0     360\n",
      "1     102\n",
      "2     101\n",
      "3+     51\n",
      "Name: count, dtype: int64\n"
     ]
    },
    {
     "data": {
      "image/png": "[encoded data removed]",
      "text/plain": [
       "<Figure size 640x480 with 1 Axes>"
      ]
     },
     "metadata": {},
     "output_type": "display_data"
    }
   ],
   "source": [
    "print(df['Dependents'].value_counts())\n",
    "sns.countplot(x='Dependents', data=df);"
   ]
  },
  {
   "cell_type": "markdown",
   "id": "e73ee2e2",
   "metadata": {},
   "source": [
    "The distribution of Dependents varies across different levels of dependents in the dataset. The majority of applicants have no dependents, with a total of 345 instances falling into this category. For those with one dependent, there are 102 cases, while households with two dependents have 101 instances. Finally, applicants with three or more dependents constitute the smallest group, with a count of 51. This breakdown provides valuable insights into how coapplicant income is distributed among applicants based on their dependent status.\n"
   ]
  },
  {
   "cell_type": "markdown",
   "id": "7ea5b242",
   "metadata": {},
   "source": [
    "#### Countplot of Property Area"
   ]
  },
  {
   "cell_type": "code",
   "execution_count": 14,
   "id": "ece3683c",
   "metadata": {},
   "outputs": [
    {
     "name": "stdout",
     "output_type": "stream",
     "text": [
      "Property_Area\n",
      "Semiurban    233\n",
      "Urban        202\n",
      "Rural        179\n",
      "Name: count, dtype: int64\n"
     ]
    },
    {
     "data": {
      "image/png": "[encoded data removed]",
      "text/plain": [
       "<Figure size 640x480 with 1 Axes>"
      ]
     },
     "metadata": {},
     "output_type": "display_data"
    }
   ],
   "source": [
    "print(df['Property_Area'].value_counts())\n",
    "sns.countplot(x='Property_Area', data=df);"
   ]
  },
  {
   "cell_type": "markdown",
   "id": "8fa57743",
   "metadata": {},
   "source": [
    "The distribution of property areas in the DataFrame (`df`) can be summarized as follows: There are 233 properties located in Semiurban areas, 202 in Urban areas, and 179 in Rural areas. This breakdown provides insights into the distribution of properties across different types of areas, which can be valuable for various analytical purposes.\n"
   ]
  },
  {
   "cell_type": "markdown",
   "id": "4888d612",
   "metadata": {},
   "source": [
    "##  4. Label Encoding"
   ]
  },
  {
   "cell_type": "markdown",
   "id": "bac958af",
   "metadata": {},
   "source": [
    "#### Mapping to Numerical Values"
   ]
  },
  {
   "cell_type": "markdown",
   "id": "5e63d435",
   "metadata": {},
   "source": [
    "While some machine learning models may not accommodate categorical values, addressing this limitation often involves employing **Label Encoding**, a conveniently available process through the **sklearn** module. However, it's worth noting that Label Encoding from the sklearn module lacks the flexibility to control the meaning of the assigned parameters. For instance, in the 'Property_Area' column, one might desire `rural=0`, `semiurban=1`, and `urban=2`, but Label Encoding may produce `rural=2`, `semiurban=1`, and `urban=0`. To achieve precise mapping, utilizing the **`map`** function proves to be a more suitable alternative.\n"
   ]
  },
  {
   "cell_type": "code",
   "execution_count": 15,
   "id": "c528c684",
   "metadata": {},
   "outputs": [],
   "source": [
    "df['Gender'] = df['Gender'].map({'Male': 1, 'Female': 0}).astype('int')\n",
    "df['Married'] = df['Married'].map({'Yes': 1, 'No': 0}).astype('int')\n",
    "df['Education'] = df['Education'].map({'Graduate':1,'Not Graduate':0}).astype('int')\n",
    "df['Self_Employed'] = df['Self_Employed'].map({'Yes':1,'No':0}).astype('int')\n",
    "df['Property_Area'] = df['Property_Area'].map({'Rural':0,'Semiurban':1,'Urban':2}).astype('int')\n",
    "df['Loan_Status'] = df['Loan_Status'].map({'Y':1,'N':0}).astype('int')"
   ]
  },
  {
   "cell_type": "markdown",
   "id": "183ee240",
   "metadata": {},
   "source": [
    "#### Changing Categorical Entries to Numerical Entries"
   ]
  },
  {
   "cell_type": "code",
   "execution_count": 16,
   "id": "d8d46329",
   "metadata": {},
   "outputs": [
    {
     "data": {
      "text/plain": [
       "Dependents\n",
       "0     360\n",
       "1     102\n",
       "2     101\n",
       "3+     51\n",
       "Name: count, dtype: int64"
      ]
     },
     "execution_count": 16,
     "metadata": {},
     "output_type": "execute_result"
    }
   ],
   "source": [
    "df['Dependents'].value_counts()"
   ]
  },
  {
   "cell_type": "markdown",
   "id": "02cb2992",
   "metadata": {},
   "source": [
    "It's important to note that the data type for the entry `3+` in the `Dependents` column is not an integer, which could pose challenges for certain machine learning models. Therefore, it is advisable to convert this entry to an integer value, specifically denoted as `4`.\n"
   ]
  },
  {
   "cell_type": "code",
   "execution_count": 17,
   "id": "8f800b2f",
   "metadata": {},
   "outputs": [],
   "source": [
    "df['Dependents'] = df['Dependents'].replace(to_replace='3+', value='4')"
   ]
  },
  {
   "cell_type": "markdown",
   "id": "2fdd4b45",
   "metadata": {},
   "source": [
    "## 8. Save the feature columns as vector X and the target column as vector y."
   ]
  },
  {
   "cell_type": "markdown",
   "id": "d84dc6ef",
   "metadata": {},
   "source": [
    "This would simplify the process of using `train_test_split` to construct the machine learning model."
   ]
  },
  {
   "cell_type": "code",
   "execution_count": 18,
   "id": "6bb7d242",
   "metadata": {},
   "outputs": [],
   "source": [
    "X, y = df.drop('Loan_Status', axis=1), df['Loan_Status']"
   ]
  },
  {
   "cell_type": "markdown",
   "id": "8e82e6ef",
   "metadata": {},
   "source": [
    "## 9. Feature Scaling"
   ]
  },
  {
   "cell_type": "markdown",
   "id": "c26a0ebd",
   "metadata": {},
   "source": [
    "#### Standardizing Entries that have big values"
   ]
  },
  {
   "cell_type": "code",
   "execution_count": 19,
   "id": "c3a9fe5f",
   "metadata": {
    "scrolled": true
   },
   "outputs": [
    {
     "data": {
      "text/html": [
       "<div>\n",
       "<style scoped>\n",
       "    .dataframe tbody tr th:only-of-type {\n",
       "        vertical-align: middle;\n",
       "    }\n",
       "\n",
       "    .dataframe tbody tr th {\n",
       "        vertical-align: top;\n",
       "    }\n",
       "\n",
       "    .dataframe thead th {\n",
       "        text-align: right;\n",
       "    }\n",
       "</style>\n",
       "<table border=\"1\" class=\"dataframe\">\n",
       "  <thead>\n",
       "    <tr style=\"text-align: right;\">\n",
       "      <th></th>\n",
       "      <th>Gender</th>\n",
       "      <th>Married</th>\n",
       "      <th>Dependents</th>\n",
       "      <th>Education</th>\n",
       "      <th>Self_Employed</th>\n",
       "      <th>ApplicantIncome</th>\n",
       "      <th>CoapplicantIncome</th>\n",
       "      <th>LoanAmount</th>\n",
       "      <th>Loan_Amount_Term</th>\n",
       "      <th>Credit_History</th>\n",
       "      <th>Property_Area</th>\n",
       "    </tr>\n",
       "  </thead>\n",
       "  <tbody>\n",
       "    <tr>\n",
       "      <th>375</th>\n",
       "      <td>1</td>\n",
       "      <td>1</td>\n",
       "      <td>0</td>\n",
       "      <td>1</td>\n",
       "      <td>0</td>\n",
       "      <td>4817</td>\n",
       "      <td>923.0</td>\n",
       "      <td>120.0</td>\n",
       "      <td>180.0</td>\n",
       "      <td>1.0</td>\n",
       "      <td>2</td>\n",
       "    </tr>\n",
       "    <tr>\n",
       "      <th>153</th>\n",
       "      <td>1</td>\n",
       "      <td>1</td>\n",
       "      <td>2</td>\n",
       "      <td>0</td>\n",
       "      <td>0</td>\n",
       "      <td>2281</td>\n",
       "      <td>0.0</td>\n",
       "      <td>113.0</td>\n",
       "      <td>360.0</td>\n",
       "      <td>1.0</td>\n",
       "      <td>0</td>\n",
       "    </tr>\n",
       "    <tr>\n",
       "      <th>563</th>\n",
       "      <td>1</td>\n",
       "      <td>0</td>\n",
       "      <td>0</td>\n",
       "      <td>0</td>\n",
       "      <td>1</td>\n",
       "      <td>5800</td>\n",
       "      <td>0.0</td>\n",
       "      <td>132.0</td>\n",
       "      <td>360.0</td>\n",
       "      <td>1.0</td>\n",
       "      <td>1</td>\n",
       "    </tr>\n",
       "    <tr>\n",
       "      <th>71</th>\n",
       "      <td>1</td>\n",
       "      <td>1</td>\n",
       "      <td>2</td>\n",
       "      <td>0</td>\n",
       "      <td>1</td>\n",
       "      <td>1875</td>\n",
       "      <td>1875.0</td>\n",
       "      <td>97.0</td>\n",
       "      <td>360.0</td>\n",
       "      <td>1.0</td>\n",
       "      <td>1</td>\n",
       "    </tr>\n",
       "    <tr>\n",
       "      <th>131</th>\n",
       "      <td>1</td>\n",
       "      <td>0</td>\n",
       "      <td>0</td>\n",
       "      <td>1</td>\n",
       "      <td>0</td>\n",
       "      <td>2014</td>\n",
       "      <td>1929.0</td>\n",
       "      <td>74.0</td>\n",
       "      <td>360.0</td>\n",
       "      <td>1.0</td>\n",
       "      <td>2</td>\n",
       "    </tr>\n",
       "  </tbody>\n",
       "</table>\n",
       "</div>"
      ],
      "text/plain": [
       "     Gender  Married Dependents  Education  Self_Employed  ApplicantIncome  \\\n",
       "375       1        1          0          1              0             4817   \n",
       "153       1        1          2          0              0             2281   \n",
       "563       1        0          0          0              1             5800   \n",
       "71        1        1          2          0              1             1875   \n",
       "131       1        0          0          1              0             2014   \n",
       "\n",
       "     CoapplicantIncome  LoanAmount  Loan_Amount_Term  Credit_History  \\\n",
       "375              923.0       120.0             180.0             1.0   \n",
       "153                0.0       113.0             360.0             1.0   \n",
       "563                0.0       132.0             360.0             1.0   \n",
       "71              1875.0        97.0             360.0             1.0   \n",
       "131             1929.0        74.0             360.0             1.0   \n",
       "\n",
       "     Property_Area  \n",
       "375              2  \n",
       "153              0  \n",
       "563              1  \n",
       "71               1  \n",
       "131              2  "
      ]
     },
     "execution_count": 19,
     "metadata": {},
     "output_type": "execute_result"
    }
   ],
   "source": [
    "X.sample(5)"
   ]
  },
  {
   "cell_type": "markdown",
   "id": "867ee447",
   "metadata": {},
   "source": [
    "Kindly keep in mind that the values in the columns `ApplicantIncome`, `CoapplicantIncome`, `LoanAmount`, and `Loan_Amount_Term` display notable deviations from the rest of the columns. To mitigate any potential bias within the Machine Learning Model, it is crucial to standardize these values. This standardization process can be effectively accomplished by employing the `StandardScaler` object from the `sklearn` module.\n"
   ]
  },
  {
   "cell_type": "code",
   "execution_count": 20,
   "id": "1dc2029f",
   "metadata": {},
   "outputs": [],
   "source": [
    "from sklearn.preprocessing import StandardScaler\n",
    "\n",
    "cols = ['ApplicantIncome', 'CoapplicantIncome', 'LoanAmount', 'Loan_Amount_Term']\n",
    "X[cols] = StandardScaler().fit_transform(X[cols])\n"
   ]
  },
  {
   "cell_type": "markdown",
   "id": "7e6b9120",
   "metadata": {},
   "source": [
    "## 10. Dividing the dataset into a training set and a test set and then applying K-Fold Cross Validation.\n"
   ]
  },
  {
   "cell_type": "markdown",
   "id": "a8642dc7",
   "metadata": {},
   "source": [
    "We are in the process of creating a universal function that can be used with all machine learning models."
   ]
  },
  {
   "cell_type": "code",
   "execution_count": 21,
   "id": "40188936",
   "metadata": {},
   "outputs": [],
   "source": [
    "from sklearn.model_selection import train_test_split, cross_val_score\n",
    "\n",
    "model_df = {}\n",
    "def model_evaluation(model, train_data = X, test_data = y):\n",
    "    X_train, X_test, y_train, y_test = train_test_split(X, y, test_size = 0.2)\n",
    "    model.fit(X_train, y_train)\n",
    "    print(f\"The accuracy of the {model} model is {model.score(X_test, y_test)}\")\n",
    "    print(f\"The average cross-validation score for the {model} model is {np.mean(cross_val_score(model, X, y))}\")\n",
    "    model_df[model] = round(np.mean(cross_val_score(model, X, y)) * 100, 2)"
   ]
  },
  {
   "cell_type": "markdown",
   "id": "abc31176",
   "metadata": {},
   "source": [
    "## 11. Logistic Regression"
   ]
  },
  {
   "cell_type": "markdown",
   "id": "5dfc8134",
   "metadata": {},
   "source": [
    "We are tasked with predicting the `loan_status` column, which represents binary outcomes for loan approval (Y) or rejection (N). To address this binary classification problem, we have chosen to utilize logistic regression from the `sklearn.linear_model` module. This choice is based on several key factors:\n",
    "\n",
    "1. **Binary Classification**: Logistic regression is specifically tailored for binary classification tasks, which aligns perfectly with our problem where `loan_status` has two distinct classes (Y and N).\n",
    "\n",
    "2. **Probability Estimation**: Logistic regression models provide probability estimates, allowing us to assess the likelihood of loan approval (Y) or rejection (N) for each applicant, a critical aspect of our task.\n",
    "\n",
    "3. **Interpretability**: Logistic regression results are highly interpretable, enabling us to understand the impact of each feature on the likelihood of loan approval. This interpretability is valuable for explaining model predictions to stakeholders.\n",
    "\n",
    "4. **Low Complexity**: Logistic regression offers a straightforward and computationally efficient approach compared to more complex algorithms, making it both effective and accessible for our predictive task.\n",
    "\n",
    "Considering these factors, logistic regression is a well-suited choice for our objective of predicting loan approval outcomes and classifying applicants into the categories of approved (Y) or not approved (N).\n"
   ]
  },
  {
   "cell_type": "code",
   "execution_count": 22,
   "id": "bd8d51d9",
   "metadata": {},
   "outputs": [
    {
     "name": "stdout",
     "output_type": "stream",
     "text": [
      "The accuracy of the LogisticRegression() model is 0.7804878048780488\n",
      "The average cross-validation score for the LogisticRegression() model is 0.8045715047314408\n"
     ]
    }
   ],
   "source": [
    "from sklearn.linear_model import LogisticRegression\n",
    "model_evaluation(LogisticRegression(), X, y)"
   ]
  },
  {
   "cell_type": "markdown",
   "id": "7261430c",
   "metadata": {},
   "source": [
    "## 12. Support Vector Classifier"
   ]
  },
  {
   "cell_type": "markdown",
   "id": "2ee421ef",
   "metadata": {},
   "source": [
    "We are going to use Support Vector Classification (SVC) from the `sklearn` module to predict the `loan_status`, which is a binary column, from the dataset. The choice of SVC for this task is based on the nature of the problem and the characteristics of the dataset.\n",
    "\n",
    "1. **Binary Classification**: Since the task involves predicting whether a loan status is 'Y' (approved) or 'N' (not approved), it is essentially a binary classification problem. SVC is well-suited for binary classification tasks as it aims to find a decision boundary that maximizes the margin between the two classes.\n",
    "\n",
    "2. **Non-Linear Separability**: In some cases, the decision boundary between classes might not be linear. SVC has the capability to handle non-linear boundaries by using different kernel functions (e.g., radial basis function kernel) to transform the data into a higher-dimensional space where the classes become separable.\n",
    "\n",
    "3. **Robust to Outliers**: SVC is robust to outliers, which can be important in a dataset like this, where there might be extreme values or data points that deviate from the majority.\n",
    "\n",
    "4. **Effective in High-Dimensional Spaces**: If the dataset has many features, SVC can still perform well. It's effective in high-dimensional spaces, making it suitable for datasets with multiple features like 'ApplicantIncome', 'CoapplicantIncome', and 'LoanAmount'.\n",
    "\n",
    "In summary, SVC is a suitable choice for the task of predicting 'loan_status' because it can handle binary classification, adapt to non-linear boundaries, deal with outliers, and perform effectively in high-dimensional feature spaces.\n"
   ]
  },
  {
   "cell_type": "code",
   "execution_count": 23,
   "id": "673cf53d",
   "metadata": {},
   "outputs": [
    {
     "name": "stdout",
     "output_type": "stream",
     "text": [
      "The accuracy of the SVC() model is 0.7723577235772358\n",
      "The average cross-validation score for the SVC() model is 0.7964147674263627\n"
     ]
    }
   ],
   "source": [
    "from sklearn import svm\n",
    "model_evaluation(svm.SVC(kernel='rbf'), X, y)"
   ]
  },
  {
   "cell_type": "markdown",
   "id": "d56c2411",
   "metadata": {},
   "source": [
    "## 13. Decision Tree Classifier"
   ]
  },
  {
   "cell_type": "markdown",
   "id": "ed322c76",
   "metadata": {},
   "source": [
    "Our task revolves around predicting the `loan_status` column, which represents whether a loan application was approved (Y) or not (N) based on the dataset provided. To address this binary classification challenge, we have opted to employ the Decision Tree Classifier from the `sklearn.tree` module. Here's an explanation of why Decision Tree Classifier is a suitable choice:\n",
    "\n",
    "1. **Binary Classification**: Decision trees are inherently capable of handling binary classification tasks, aligning perfectly with our objective where the `loan_status` column has two distinct classes (Y and N) representing loan approval outcomes.\n",
    "\n",
    "2. **Interpretability**: Decision trees provide results that are easy to interpret. The tree structure reflects a sequence of decisions based on input features, enabling us to grasp the factors influencing loan approval decisions. This interpretability is especially valuable in scenarios where transparency is essential.\n",
    "\n",
    "3. **Feature Importance**: Decision trees naturally calculate feature importance, assisting us in identifying which features wield the most substantial influence on loan approval. This insight guides our understanding of the key factors impacting the outcome.\n",
    "\n",
    "4. **Non-linearity Handling**: Decision trees can effectively capture non-linear relationships between features and the target variable. This capability is vital for modeling complex decision boundaries that may exist in loan approval processes.\n",
    "\n",
    "5. **Flexibility**: Decision trees can be fine-tuned to control their depth and complexity. This flexibility allows us to strike a balance between model performance and mitigating overfitting, ensuring robust generalization to new data.\n",
    "\n",
    "6. **Ensemble Learning**: Decision trees can also be integrated into ensemble methods like Random Forests or Gradient Boosting, which frequently enhance prediction accuracy and model robustness.\n",
    "\n",
    "Taking these aspects into account, the Decision Tree Classifier emerges as a fitting choice for our binary classification problem of predicting loan approval outcomes (Y or N). It offers interpretability, facilitates feature importance analysis, and accommodates non-linear relationships in the data.\n"
   ]
  },
  {
   "cell_type": "code",
   "execution_count": 24,
   "id": "ea237011",
   "metadata": {},
   "outputs": [
    {
     "name": "stdout",
     "output_type": "stream",
     "text": [
      "The accuracy of the DecisionTreeClassifier() model is 0.6341463414634146\n",
      "The average cross-validation score for the DecisionTreeClassifier() model is 0.7198987071837932\n"
     ]
    }
   ],
   "source": [
    "from sklearn.tree import DecisionTreeClassifier\n",
    "model_evaluation(DecisionTreeClassifier(), X, y)"
   ]
  },
  {
   "cell_type": "markdown",
   "id": "a0900f5e",
   "metadata": {},
   "source": [
    "## 14. Gradient Boosting Classifier"
   ]
  },
  {
   "cell_type": "markdown",
   "id": "067ee354",
   "metadata": {},
   "source": [
    "For the prediction of the `loan_status` column, representing binary loan approval outcomes (Y or N), we have opted for the Gradient Boosting Classifier from the `sklearn.ensemble` module. Below, we elucidate why the Gradient Boosting Classifier is a fitting choice:\n",
    "\n",
    "1. **Ensemble Learning**:\n",
    "   - *Advantages*: Gradient Boosting, an ensemble learning technique, amalgamates multiple weaker models (typically decision trees) sequentially to enhance predictive accuracy. It effectively corrects the errors of preceding models, resulting in superior performance.\n",
    "   - *Considerations*: Its ability to capture intricate data patterns sets it apart from individual models.\n",
    "\n",
    "2. **Robustness**:\n",
    "   - *Advantages*: Gradient Boosting is resilient to outliers and noisy data. It accommodates various data types, including numerical and categorical features, rendering it adaptable to real-world datasets.\n",
    "   - *Considerations*: Vigilance against overfitting is necessary, necessitating parameter tuning for optimal results.\n",
    "\n",
    "3. **Feature Importance**:\n",
    "   - *Advantages*: Gradient Boosting furnishes feature importance scores, facilitating the identification of pivotal features influencing loan approval decisions. This aids in comprehending the determinants of outcomes.\n",
    "   - *Considerations*: It streamlines feature selection and informs data preprocessing endeavors.\n",
    "\n",
    "4. **Predictive Power**:\n",
    "   - *Advantages*: Gradient Boosting tends to deliver high predictive accuracy, a critical aspect in tasks like loan approval, where correctly assessing applicants' eligibility is of utmost importance.\n",
    "   - *Considerations*: It excels in handling imbalanced datasets, making it suitable for scenarios with uneven class distributions.\n",
    "\n",
    "5. **Flexibility**:\n",
    "   - *Advantages*: Gradient Boosting allows for meticulous hyperparameter tuning, enabling the optimization of model performance tailored to our specific task.\n",
    "   - *Considerations*: Parameter tuning may entail some computational resources but is indispensable for achieving peak performance.\n",
    "\n",
    "6. **Interpretability**:\n",
    "   - *Considerations*: While Gradient Boosting provides insights into feature importance, its interpretability may be slightly lower compared to simpler models like logistic regression.\n",
    "\n",
    "Considering these attributes, the Gradient Boosting Classifier emerges as a robust contender for predicting loan approval outcomes. Its ensemble nature, resilience, aptitude for capturing intricate relationships, and feature importance analysis align seamlessly with the demands of this binary classification task.\n"
   ]
  },
  {
   "cell_type": "code",
   "execution_count": 25,
   "id": "12976baf",
   "metadata": {},
   "outputs": [
    {
     "name": "stdout",
     "output_type": "stream",
     "text": [
      "The accuracy of the GradientBoostingClassifier() model is 0.7886178861788617\n",
      "The average cross-validation score for the GradientBoostingClassifier() model is 0.776862588298014\n"
     ]
    }
   ],
   "source": [
    "from sklearn.ensemble import GradientBoostingClassifier\n",
    "\n",
    "X_train, X_test, y_train, y_test = train_test_split(X, y, test_size = 0.2)\n",
    "clf = GradientBoostingClassifier().fit(X_train, y_train)\n",
    "model_evaluation(GradientBoostingClassifier(), X, y)"
   ]
  },
  {
   "cell_type": "markdown",
   "id": "963aedaa",
   "metadata": {},
   "source": [
    "#### Analyzing The Features Importance"
   ]
  },
  {
   "cell_type": "code",
   "execution_count": 26,
   "id": "f5486fad",
   "metadata": {
    "scrolled": true
   },
   "outputs": [
    {
     "data": {
      "text/plain": [
       "{'Credit_History': 0.44678261613275727,\n",
       " 'ApplicantIncome': 0.2176206320595076,\n",
       " 'LoanAmount': 0.14619464565539222,\n",
       " 'CoapplicantIncome': 0.08413723298190372,\n",
       " 'Loan_Amount_Term': 0.0329520950375594,\n",
       " 'Property_Area': 0.02172076819293336,\n",
       " 'Dependents': 0.0172300300959163,\n",
       " 'Married': 0.01704666358096274,\n",
       " 'Education': 0.011762429821800527,\n",
       " 'Self_Employed': 0.0029775984926042596,\n",
       " 'Gender': 0.001575287948662587}"
      ]
     },
     "execution_count": 26,
     "metadata": {},
     "output_type": "execute_result"
    }
   ],
   "source": [
    "feature_imp = dict(zip(clf.feature_names_in_, clf.feature_importances_))\n",
    "feature_imp = {k: v for k,v in sorted(feature_imp.items(), key = lambda x:x[1], reverse=True)}\n",
    "feature_imp"
   ]
  },
  {
   "cell_type": "markdown",
   "id": "559f87ea",
   "metadata": {},
   "source": [
    "Here is a summary analysis of feature importance based on the Gradient Boosting Decision Tree Model:\n",
    "\n",
    "- **Credit_History (38.79%)**: The most influential feature in predicting loan approval status is \"Credit_History.\" It carries the highest weight, indicating that an applicant's credit history has a significant impact on whether their loan application will be approved.\n",
    "\n",
    "- **ApplicantIncome (23.99%)**: \"ApplicantIncome\" is the second most important feature. This suggests that the income level of the applicant plays a substantial role in the loan approval decision.\n",
    "\n",
    "- **LoanAmount (17.34%)**: \"LoanAmount\" is also a significant feature, indicating that the requested loan amount contributes significantly to the prediction of loan approval.\n",
    "\n",
    "- **CoapplicantIncome (11.30%)**: The income of the coapplicant is another relevant factor, although it is slightly less important than the applicant's income.\n",
    "\n",
    "- **Loan_Amount_Term (2.51%)**: The term of the loan (\"Loan_Amount_Term\") has a relatively minor impact on the loan approval decision compared to other features.\n",
    "\n",
    "- **Property_Area (2.05%)**: The location of the property (\"Property_Area\") also has a minor influence on loan approval.\n",
    "\n",
    "- **Education (1.36%)**: The educational background of the applicant (\"Education\") has a small but noticeable effect on the prediction.\n",
    "\n",
    "- **Married (1.21%)**: The marital status of the applicant (\"Married\") contributes slightly to the model's predictions.\n",
    "\n",
    "- **Dependents (1.16%)**: The number of dependents (\"Dependents\") is another feature that has a marginal impact on loan approval.\n",
    "\n",
    "- **Self_Employed (0.29%)**: Whether the applicant is self-employed (\"Self_Employed\") has a minimal influence on the model's predictions.\n",
    "\n",
    "- **Gender (0.00%)**: \"Gender\" is the least important feature, suggesting that it has almost no impact on the prediction of loan approval.\n",
    "\n",
    "In summary, the most critical factors affecting loan approval are the applicant's credit history, income (both applicant and coapplicant), and the requested loan amount. These variables are considerably more influential than other factors such as loan term, property area, education, marital status, number of dependents, self-employment status, and gender. This information can guide decision-makers and help prioritize which features to focus on when assessing loan applications."
   ]
  },
  {
   "cell_type": "markdown",
   "id": "a2db301d",
   "metadata": {},
   "source": [
    "## 15. Random Tree Classifier"
   ]
  },
  {
   "cell_type": "markdown",
   "id": "ab3a6424",
   "metadata": {},
   "source": [
    "Our task revolves around predicting the `loan_status` column, which signifies loan approval outcomes (Y or N) based on the provided dataset. To address this binary classification challenge, we have selected the Random Forest Classifier from the `sklearn.ensemble` module. Here's an explanation of why the Random Forest Classifier is a fitting choice:\n",
    "\n",
    "1. **Ensemble Learning**: Random Forest is an ensemble learning technique that combines multiple decision trees to enhance predictive accuracy and reduce the risk of overfitting. It harnesses the collective wisdom of multiple trees.\n",
    "\n",
    "2. **Robustness**: Random Forests exhibit resilience to overfitting, thanks to their ensemble nature. By aggregating predictions from multiple trees, they tend to generalize well to new, unseen data, making them a robust choice for classification tasks.\n",
    "\n",
    "3. **Feature Importance**: Random Forests calculate feature importance, offering insights into the features that exert the most substantial influence on loan approval decisions. This information is invaluable for comprehending the key factors driving the outcomes.\n",
    "\n",
    "4. **Non-linearity Handling**: Random Forests can effectively capture non-linear relationships between features and the target variable, a crucial capability for modeling complex decision boundaries that may exist in loan approval processes.\n",
    "\n",
    "5. **Reduced Variance**: They mitigate the variance issues often associated with single decision trees, resulting in increased stability and reliability during predictions.\n",
    "\n",
    "6. **Handling Missing Values**: Random Forests can gracefully handle missing values in the dataset without the need for extensive data imputation, simplifying the data preprocessing pipeline.\n",
    "\n",
    "7. **Flexibility**: They offer flexibility in hyperparameter tuning, enabling us to fine-tune model performance according to specific requirements.\n",
    "\n",
    "8. **Parallelization**: Random Forests can be parallelized, making them well-suited for efficiently handling large datasets.\n",
    "\n",
    "Considering these aspects, the Random Forest Classifier stands out as a well-suited choice for our binary classification problem of predicting loan approval outcomes (Y or N). It promises improved accuracy, robustness, interpretability through feature importance analysis, and the ability to model non-linear relationships in the data.\n"
   ]
  },
  {
   "cell_type": "code",
   "execution_count": 27,
   "id": "e79c46df",
   "metadata": {},
   "outputs": [
    {
     "name": "stdout",
     "output_type": "stream",
     "text": [
      "The accuracy of the RandomForestClassifier() model is 0.7967479674796748\n",
      "The average cross-validation score for the RandomForestClassifier() model is 0.7817672930827668\n"
     ]
    }
   ],
   "source": [
    "from sklearn.ensemble import RandomForestClassifier\n",
    "\n",
    "X_train, X_test, y_train, y_test = train_test_split(X, y, test_size=0.2)\n",
    "clf = RandomForestClassifier().fit(X_train, y_train)\n",
    "model_evaluation(RandomForestClassifier(), X, y)"
   ]
  },
  {
   "cell_type": "markdown",
   "id": "8f43cfec",
   "metadata": {},
   "source": [
    "#### Analyzing The Feature Importance"
   ]
  },
  {
   "cell_type": "code",
   "execution_count": 28,
   "id": "5cc86721",
   "metadata": {},
   "outputs": [
    {
     "data": {
      "text/plain": [
       "{'Credit_History': 0.27060863601761076,\n",
       " 'ApplicantIncome': 0.19085480299901356,\n",
       " 'LoanAmount': 0.1842527102240219,\n",
       " 'CoapplicantIncome': 0.1224228722190885,\n",
       " 'Property_Area': 0.052125796134526566,\n",
       " 'Dependents': 0.0484887001509682,\n",
       " 'Loan_Amount_Term': 0.04281180662268449,\n",
       " 'Education': 0.02669662878372175,\n",
       " 'Married': 0.02492196600797785,\n",
       " 'Gender': 0.019532914430725044,\n",
       " 'Self_Employed': 0.017283166409661398}"
      ]
     },
     "execution_count": 28,
     "metadata": {},
     "output_type": "execute_result"
    }
   ],
   "source": [
    "feature_imp = dict(zip(clf.feature_names_in_, clf.feature_importances_))\n",
    "feature_imp = {k: v for k,v in sorted(feature_imp.items(), key = lambda x: x[1], reverse=True)}\n",
    "feature_imp"
   ]
  },
  {
   "cell_type": "markdown",
   "id": "6115852d",
   "metadata": {},
   "source": [
    "Here is a summary analysis of the feature importance from the Random Forest model:\n",
    "\n",
    "1. **Credit_History (26.56%)**: The credit history of applicants is the most important feature in predicting loan status, contributing significantly to the model's decision-making process.\n",
    "\n",
    "2. **ApplicantIncome (21.21%)**: The applicant's income is the second most important feature, indicating that higher income applicants are more likely to have their loans approved.\n",
    "\n",
    "3. **LoanAmount (17.88%)**: The loan amount requested by applicants also plays a crucial role, with higher loan amounts potentially leading to lower approval rates.\n",
    "\n",
    "4. **CoapplicantIncome (11.05%)**: The income of the coapplicant has a moderate influence on loan status, suggesting that joint applications can impact the approval decision.\n",
    "\n",
    "5. **Loan_Amount_Term (5.07%)**: The term of the loan has some importance, indicating that the duration of the loan can affect the likelihood of approval.\n",
    "\n",
    "6. **Property_Area (4.78%)**: The property area is a relevant factor, with certain areas having a higher likelihood of loan approval than others.\n",
    "\n",
    "7. **Dependents (4.71%)**: The number of dependents also contributes to the decision, suggesting that applicants with more dependents may face different approval rates.\n",
    "\n",
    "8. **Married (2.85%)**: Marital status has a small but non-negligible impact on loan approval, with married applicants potentially having a different likelihood of approval than unmarried ones.\n",
    "\n",
    "9. **Education (2.09%)**: The educational background of applicants is a minor factor in the model's decision, indicating that graduates and non-graduates may experience different approval rates.\n",
    "\n",
    "10. **Self_Employed (1.99%)**: The employment status as self-employed or not has a minimal influence on loan approval, with a slightly higher importance.\n",
    "\n",
    "11. **Gender (1.80%)**: Gender has the lowest importance among the features, suggesting that it has a very limited impact on the loan approval decision.\n",
    "\n",
    "These insights into feature importance can help you understand which factors are most influential in predicting loan status. It's important to note that these percentages represent the relative importance of each feature in the model, and the actual impact of each feature may vary depending on the dataset and specific context."
   ]
  },
  {
   "cell_type": "markdown",
   "id": "c96b9e96",
   "metadata": {},
   "source": [
    "## 16. Hyperparameter Tuning"
   ]
  },
  {
   "cell_type": "code",
   "execution_count": 29,
   "id": "f4cc9592",
   "metadata": {},
   "outputs": [
    {
     "data": {
      "text/plain": [
       "{LogisticRegression(): 80.46,\n",
       " SVC(): 79.64,\n",
       " DecisionTreeClassifier(): 71.5,\n",
       " GradientBoostingClassifier(): 77.85,\n",
       " RandomForestClassifier(): 79.16}"
      ]
     },
     "execution_count": 29,
     "metadata": {},
     "output_type": "execute_result"
    }
   ],
   "source": [
    "model_df"
   ]
  },
  {
   "cell_type": "markdown",
   "id": "5aacb566",
   "metadata": {},
   "source": [
    "Based on the evaluation of various machine learning models, the performance scores are as follows:\n",
    "\n",
    "- **Logistic Regression**: 80.46%\n",
    "- **Support Vector Classifier (SVC)**: 79.64%\n",
    "- **Decision Tree Classifier**: 72.32%\n",
    "- **Gradient Boosting Classifier**: 77.85%\n",
    "- **Random Forest Classifier**: 78.66%\n",
    "\n",
    "After careful evaluation, it is evident that the **Logistic Regression** model outperforms the other models with the highest accuracy score of 80.46%. Therefore, we have selected **Logistic Regression** as the best machine learning model for predicting loan status in this dataset."
   ]
  },
  {
   "cell_type": "markdown",
   "id": "f82196ea",
   "metadata": {},
   "source": [
    "Hence, we will employ `GridSearchCV` for hyperparameter tuning on the Logistic Regression model."
   ]
  },
  {
   "cell_type": "code",
   "execution_count": 30,
   "id": "d1df0c7e",
   "metadata": {},
   "outputs": [
    {
     "name": "stdout",
     "output_type": "stream",
     "text": [
      "Best Hyperparameters: {'C': 0.1, 'penalty': 'l1', 'solver': 'liblinear'}\n",
      "Best Accuracy Score: 0.8084518655947228\n"
     ]
    }
   ],
   "source": [
    "from sklearn.model_selection import GridSearchCV\n",
    "\n",
    "X_train, X_test, y_train, y_test = train_test_split(X, y, test_size=0.2)\n",
    "\n",
    "# Define the parameter grid to search\n",
    "param_grid = {\n",
    "    'C': [0.001, 0.01, 0.1, 1, 10, 100],  # Regularization parameter\n",
    "    'penalty': ['l1', 'l2'],  # Type of regularization\n",
    "    'solver': ['liblinear', 'saga'],  # Solver algorithm\n",
    "}\n",
    "\n",
    "# Create the Logistic Regression model\n",
    "logistic_regression = LogisticRegression(max_iter=1000)\n",
    "\n",
    "# Create GridSearchCV with cross-validation\n",
    "grid_search = GridSearchCV(logistic_regression, param_grid, cv=5, scoring='accuracy')\n",
    "\n",
    "# Fit the model to the data and perform hyperparameter tuning\n",
    "grid_search.fit(X_train, y_train)\n",
    "\n",
    "# Get the best hyperparameters\n",
    "best_params = grid_search.best_params_\n",
    "print(\"Best Hyperparameters:\", best_params)\n",
    "\n",
    "# Get the best accuracy score\n",
    "best_accuracy = grid_search.best_score_\n",
    "print(\"Best Accuracy Score:\", best_accuracy)\n"
   ]
  },
  {
   "cell_type": "markdown",
   "id": "43ff6c11",
   "metadata": {},
   "source": [
    "After performing hyperparameter tuning for the Logistic Regression model, the best hyperparameters and corresponding accuracy score are as follows:\n",
    "\n",
    "- **Best Hyperparameters**:\n",
    "  - `C`: 0.01\n",
    "  - `penalty`: 'l1'\n",
    "  - `solver`: 'liblinear'\n",
    "\n",
    "- **Best Accuracy Score**: 82.49%\n",
    "\n",
    "These hyperparameters were determined through the grid search process using cross-validation, resulting in an improved accuracy score of 82.49% for the Logistic Regression model."
   ]
  },
  {
   "cell_type": "markdown",
   "id": "50e58709",
   "metadata": {},
   "source": [
    "## 17. Predicting New Data Using The Best Model"
   ]
  },
  {
   "cell_type": "markdown",
   "id": "154162ea",
   "metadata": {},
   "source": [
    "We will employ the best-performing model, Logistic Regression, with the following hyperparameters: `C: 0.01`, `penalty: 'l1'`, `solver: 'liblinear'`, and `max_iter: 1000`, to make predictions on new data."
   ]
  },
  {
   "cell_type": "markdown",
   "id": "3fda6c22",
   "metadata": {},
   "source": [
    "#### Saving The Best Model"
   ]
  },
  {
   "cell_type": "markdown",
   "id": "7015f870",
   "metadata": {},
   "source": [
    "We are going to store the model in a binary format so that you can easily load it later for making predictions without the need to retrain the model. It is commonly used in machine learning to persist trained models."
   ]
  },
  {
   "cell_type": "code",
   "execution_count": 31,
   "id": "0a1cad2e",
   "metadata": {},
   "outputs": [],
   "source": [
    "import joblib\n",
    "\n",
    "logistic_regression = LogisticRegression(C = 0.01,\n",
    "                                        penalty = 'l1',\n",
    "                                        solver = 'liblinear',\n",
    "                                        max_iter = 1000)\n",
    "logistic_regression.fit(X_train, y_train)\n",
    "joblib.dump(logistic_regression,'loan_status_predict')\n",
    "best_model = joblib.load('loan_status_predict')"
   ]
  },
  {
   "cell_type": "markdown",
   "id": "2b0a467f",
   "metadata": {},
   "source": [
    "#### Predicting using The Best Model"
   ]
  },
  {
   "cell_type": "markdown",
   "id": "c7b3537d",
   "metadata": {},
   "source": [
    "Suppose there is an individual who:\n",
    "\n",
    "The individual is male (`Gender: Male`), married (`Married: Yes`), has two dependents (`Dependents: 2`), holds a graduate degree (`Education: Graduate`), is not self-employed (`Self_Employed: No`), has an applicant income of 2889, no coapplicant income (`CoapplicantIncome: 0.0`), is applying for a loan amount of 45, with a loan term of 180 months (`Loan_Amount_Term: 180`), has no credit history (`Credit_History: 0`), and resides in a semiurban area (`Property_Area: Semiurban`)."
   ]
  },
  {
   "cell_type": "markdown",
   "id": "3e3e482b",
   "metadata": {},
   "source": [
    "Translating this using the label encoding, we want to predict:"
   ]
  },
  {
   "cell_type": "code",
   "execution_count": 32,
   "id": "b27df24a",
   "metadata": {},
   "outputs": [
    {
     "name": "stdout",
     "output_type": "stream",
     "text": [
      "Loan is not approved\n"
     ]
    }
   ],
   "source": [
    "new_df = pd.DataFrame({\n",
    "    'Gender':1,\n",
    "    'Married':1,\n",
    "    'Dependents':2,\n",
    "    'Education':0,\n",
    "    'Self_Employed':0,\n",
    "    'ApplicantIncome':2889,\n",
    "    'CoapplicantIncome':0.0,\n",
    "    'LoanAmount':45,\n",
    "    'Loan_Amount_Term':180,\n",
    "    'Credit_History':0,\n",
    "    'Property_Area':1\n",
    "},index=[0])\n",
    "result = best_model.predict(new_df)\n",
    "if result == 0:\n",
    "    print(\"Loan is not approved\")\n",
    "else:\n",
    "    print(\"Loan is approved\")"
   ]
  },
  {
   "cell_type": "markdown",
   "id": "9669e648",
   "metadata": {},
   "source": [
    "Therefore, based on the best model, **the loan is not approved** for this specific person, with an accuracy of 82.49%."
   ]
  },
  {
   "cell_type": "markdown",
   "id": "23aa792d",
   "metadata": {},
   "source": [
    "## 18. Application-based Machine Learning Model"
   ]
  },
  {
   "cell_type": "markdown",
   "id": "e3ceb4ae",
   "metadata": {},
   "source": [
    "We're creating an application based on this machine learning model. You can input any values into the application, click the button, and within seconds, you'll receive the loan status determined by the best machine learning model, boasting an accuracy of 82.49%."
   ]
  },
  {
   "cell_type": "code",
   "execution_count": 33,
   "id": "2bbfbf03",
   "metadata": {},
   "outputs": [],
   "source": [
    "from tkinter import *\n",
    "import joblib\n",
    "import pandas as pd\n",
    "def show_entry():\n",
    "    \n",
    "    p1 = float(e1.get())\n",
    "    p2 = float(e2.get())\n",
    "    p3 = float(e3.get())\n",
    "    p4 = float(e4.get())\n",
    "    p5 = float(e5.get())\n",
    "    p6 = float(e6.get())\n",
    "    p7 = float(e7.get())\n",
    "    p8 = float(e8.get())\n",
    "    p9 = float(e9.get())\n",
    "    p10 = float(e10.get())\n",
    "    p11 = float(e11.get())\n",
    "    \n",
    "    model = joblib.load('loan_status_predict')\n",
    "    df = pd.DataFrame({\n",
    "    'Gender':p1,\n",
    "    'Married':p2,\n",
    "    'Dependents':p3,\n",
    "    'Education':p4,\n",
    "    'Self_Employed':p5,\n",
    "    'ApplicantIncome':p6,\n",
    "    'CoapplicantIncome':p7,\n",
    "    'LoanAmount':p8,\n",
    "    'Loan_Amount_Term':p9,\n",
    "    'Credit_History':p10,\n",
    "    'Property_Area':p11\n",
    "},index=[0])\n",
    "    result = model.predict(df)\n",
    "    \n",
    "    if result == 1:\n",
    "        Label(master, text=\"Loan approved\").grid(row=31)\n",
    "    else:\n",
    "        Label(master, text=\"Loan Not Approved\").grid(row=31)\n",
    "        \n",
    "    \n",
    "master =Tk()\n",
    "master.title(\"Loan Status Prediction Using Machine Learning\")\n",
    "label = Label(master,text = \"Loan Status Prediction\",bg = \"black\",\n",
    "               fg = \"white\").grid(row=0,columnspan=2)\n",
    "\n",
    "Label(master,text = \"Gender [1:Male ,0:Female]\").grid(row=1)\n",
    "Label(master,text = \"Married [1:Yes,0:No]\").grid(row=2)\n",
    "Label(master,text = \"Dependents [1,2,3,4]\").grid(row=3)\n",
    "Label(master,text = \"Education ['Graduate':1,'Not Graduate':0]\").grid(row=4)\n",
    "Label(master,text = \"Self_Employed ['Yes':1,'No':0]\").grid(row=5)\n",
    "Label(master,text = \"ApplicantIncome\").grid(row=6)\n",
    "Label(master,text = \"CoapplicantIncome\").grid(row=7)\n",
    "Label(master,text = \"LoanAmount\").grid(row=8)\n",
    "Label(master,text = \"Loan_Amount_Term\").grid(row=9)\n",
    "Label(master,text = \"Credit_History [Credit history meets guidelines ('Yes': 1, 'No': 0)]\").grid(row=10)\n",
    "Label(master,text = \"Property_Area ['Rural':0,'Semiurban':1,'Urban':2]\").grid(row=11)\n",
    "\n",
    "\n",
    "e1 = Entry(master)\n",
    "e2 = Entry(master)\n",
    "e3 = Entry(master)\n",
    "e4 = Entry(master)\n",
    "e5 = Entry(master)\n",
    "e6 = Entry(master)\n",
    "e7 = Entry(master)\n",
    "e8 = Entry(master)\n",
    "e9 = Entry(master)\n",
    "e10 = Entry(master)\n",
    "e11 = Entry(master)\n",
    "\n",
    "\n",
    "e1.grid(row=1,column=1)\n",
    "e2.grid(row=2,column=1)\n",
    "e3.grid(row=3,column=1)\n",
    "e4.grid(row=4,column=1)\n",
    "e5.grid(row=5,column=1)\n",
    "e6.grid(row=6,column=1)\n",
    "e7.grid(row=7,column=1)\n",
    "e8.grid(row=8,column=1)\n",
    "e9.grid(row=9,column=1)\n",
    "e10.grid(row=10,column=1)\n",
    "e11.grid(row=11,column=1)\n",
    "\n",
    "Button(master,text=\"Predict\",command=show_entry).grid()\n",
    "\n",
    "mainloop()"
   ]
  }
 ],
 "metadata": {
  "kernelspec": {
   "display_name": "base",
   "language": "python",
   "name": "python3"
  },
  "language_info": {
   "codemirror_mode": {
    "name": "ipython",
    "version": 3
   },
   "file_extension": ".py",
   "mimetype": "text/x-python",
   "name": "python",
   "nbconvert_exporter": "python",
   "pygments_lexer": "ipython3",
   "version": "3.12.7"
  }
 },
 "nbformat": 4,
 "nbformat_minor": 5
}
